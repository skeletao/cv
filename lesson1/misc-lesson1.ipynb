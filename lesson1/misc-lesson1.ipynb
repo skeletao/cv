{
 "cells": [
  {
   "cell_type": "code",
   "execution_count": 72,
   "metadata": {},
   "outputs": [],
   "source": [
    "import cv2\n",
    "import random\n",
    "import numpy as np \n",
    "import matplotlib.pyplot as plt"
   ]
  },
  {
   "cell_type": "code",
   "execution_count": 86,
   "metadata": {},
   "outputs": [],
   "source": [
    "image_file = 'lena_full.jpg'\n",
    "image_array = cv2.imread(image_file, 1)"
   ]
  },
  {
   "cell_type": "code",
   "execution_count": 74,
   "metadata": {},
   "outputs": [
    {
     "data": {
      "text/plain": [
       "((512, 512, 3), dtype('uint8'))"
      ]
     },
     "execution_count": 74,
     "metadata": {},
     "output_type": "execute_result"
    }
   ],
   "source": [
    "image_array.shape, image_array.dtype"
   ]
  },
  {
   "cell_type": "code",
   "execution_count": 75,
   "metadata": {},
   "outputs": [],
   "source": [
    "cv2.imshow('lena', image_array[0:855//4, 400//4:400*2//3, 0:3])\n",
    "# cv2.imshow('lena', image_array)\n",
    "key = cv2.waitKey()\n",
    "if key == 27:\n",
    "    cv2.destroyAllWindows()"
   ]
  },
  {
   "cell_type": "code",
   "execution_count": 42,
   "metadata": {},
   "outputs": [
    {
     "data": {
      "text/plain": [
       "True"
      ]
     },
     "execution_count": 42,
     "metadata": {},
     "output_type": "execute_result"
    }
   ],
   "source": [
    "cv2.imwrite('lena_crop.jpg',image_array[0:855//4, 400//4:400*2//3, 0:3])"
   ]
  },
  {
   "cell_type": "code",
   "execution_count": 76,
   "metadata": {},
   "outputs": [],
   "source": [
    "B, G, R = cv2.split(image_array)"
   ]
  },
  {
   "cell_type": "code",
   "execution_count": 77,
   "metadata": {},
   "outputs": [
    {
     "data": {
      "text/plain": [
       "((512, 512), (512, 512), (512, 512), dtype('uint8'))"
      ]
     },
     "execution_count": 77,
     "metadata": {},
     "output_type": "execute_result"
    }
   ],
   "source": [
    "B.shape, G.shape, R.shape, B.dtype"
   ]
  },
  {
   "cell_type": "code",
   "execution_count": 83,
   "metadata": {},
   "outputs": [],
   "source": [
    "def random_light_color(img):\n",
    "    \n",
    "    bgr=cv2.split(img)\n",
    "    \n",
    "    for i, val in enumerate(bgr):\n",
    "        random_color = random.randint(-50, 50)\n",
    "        if random_color == 0:\n",
    "            pass\n",
    "        elif random_color > 0:\n",
    "            lim = 255-random_color\n",
    "            val[val>lim] = 255\n",
    "            val[val<=lim] = (val[val<=lim]+ random_color).astype(val.dtype)\n",
    "        else:\n",
    "            lim = 0-random_color\n",
    "            val[val<lim] = 0\n",
    "            val[val>=lim] = (val[val>=lim] - random_color).astype(val.dtype)\n",
    "            \n",
    "    img_new = cv2.merge(bgr)\n",
    "    return img_new"
   ]
  },
  {
   "cell_type": "code",
   "execution_count": 87,
   "metadata": {},
   "outputs": [],
   "source": [
    "image_light = random_light_color(image_array)\n",
    "cv2.imshow('lena_light', image_light)\n",
    "cv2.imshow('lena_orig', image_array)\n",
    "key = cv2.waitKey()\n",
    "if key == 27:\n",
    "    cv2.destroyAllWindows()"
   ]
  }
 ],
 "metadata": {
  "kernelspec": {
   "display_name": "Python 3",
   "language": "python",
   "name": "python3"
  },
  "language_info": {
   "codemirror_mode": {
    "name": "ipython",
    "version": 3
   },
   "file_extension": ".py",
   "mimetype": "text/x-python",
   "name": "python",
   "nbconvert_exporter": "python",
   "pygments_lexer": "ipython3",
   "version": "3.7.1"
  }
 },
 "nbformat": 4,
 "nbformat_minor": 2
}
