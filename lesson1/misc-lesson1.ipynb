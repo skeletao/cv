{
 "cells": [
  {
   "cell_type": "code",
   "execution_count": 1,
   "metadata": {},
   "outputs": [],
   "source": [
    "import cv2\n",
    "import random\n",
    "import numpy as np \n",
    "import matplotlib.pyplot as plt"
   ]
  },
  {
   "cell_type": "code",
   "execution_count": 2,
   "metadata": {},
   "outputs": [],
   "source": [
    "image_file = 'lena_full.jpg'"
   ]
  },
  {
   "cell_type": "code",
   "execution_count": 3,
   "metadata": {},
   "outputs": [],
   "source": [
    "image_array = cv2.imread(image_file, 1)"
   ]
  },
  {
   "cell_type": "code",
   "execution_count": 74,
   "metadata": {},
   "outputs": [
    {
     "data": {
      "text/plain": [
       "((512, 512, 3), dtype('uint8'))"
      ]
     },
     "execution_count": 74,
     "metadata": {},
     "output_type": "execute_result"
    }
   ],
   "source": [
    "image_array.shape, image_array.dtype"
   ]
  },
  {
   "cell_type": "code",
   "execution_count": 75,
   "metadata": {},
   "outputs": [],
   "source": [
    "cv2.imshow('lena', image_array[0:855//4, 400//4:400*2//3, 0:3])\n",
    "# cv2.imshow('lena', image_array)\n",
    "key = cv2.waitKey()\n",
    "if key == 27:\n",
    "    cv2.destroyAllWindows()"
   ]
  },
  {
   "cell_type": "code",
   "execution_count": 42,
   "metadata": {},
   "outputs": [
    {
     "data": {
      "text/plain": [
       "True"
      ]
     },
     "execution_count": 42,
     "metadata": {},
     "output_type": "execute_result"
    }
   ],
   "source": [
    "cv2.imwrite('lena_crop.jpg',image_array[0:855//4, 400//4:400*2//3, 0:3])"
   ]
  },
  {
   "cell_type": "code",
   "execution_count": 76,
   "metadata": {},
   "outputs": [],
   "source": [
    "B, G, R = cv2.split(image_array)"
   ]
  },
  {
   "cell_type": "code",
   "execution_count": 77,
   "metadata": {},
   "outputs": [
    {
     "data": {
      "text/plain": [
       "((512, 512), (512, 512), (512, 512), dtype('uint8'))"
      ]
     },
     "execution_count": 77,
     "metadata": {},
     "output_type": "execute_result"
    }
   ],
   "source": [
    "B.shape, G.shape, R.shape, B.dtype"
   ]
  },
  {
   "cell_type": "markdown",
   "metadata": {},
   "source": [
    "## Gamma Correction"
   ]
  },
  {
   "cell_type": "code",
   "execution_count": 83,
   "metadata": {},
   "outputs": [],
   "source": [
    "def random_light_color(img):\n",
    "    \n",
    "    bgr=cv2.split(img)\n",
    "    \n",
    "    for i, val in enumerate(bgr):\n",
    "        random_color = random.randint(-50, 50)\n",
    "        if random_color == 0:\n",
    "            pass\n",
    "        elif random_color > 0:\n",
    "            lim = 255-random_color\n",
    "            val[val>lim] = 255\n",
    "            val[val<=lim] = (val[val<=lim]+ random_color).astype(val.dtype)\n",
    "        else:\n",
    "            lim = 0-random_color\n",
    "            val[val<lim] = 0\n",
    "            val[val>=lim] = (val[val>=lim] - random_color).astype(val.dtype)\n",
    "            \n",
    "    img_new = cv2.merge(bgr)\n",
    "    return img_new"
   ]
  },
  {
   "cell_type": "code",
   "execution_count": 87,
   "metadata": {},
   "outputs": [],
   "source": [
    "image_light = random_light_color(image_array)\n",
    "cv2.imshow('lena_light', image_light)\n",
    "cv2.imshow('lena_orig', image_array)\n",
    "key = cv2.waitKey()\n",
    "if key == 27:\n",
    "    cv2.destroyAllWindows()"
   ]
  },
  {
   "cell_type": "code",
   "execution_count": 12,
   "metadata": {},
   "outputs": [],
   "source": [
    "cv2.LUT?"
   ]
  },
  {
   "cell_type": "code",
   "execution_count": 18,
   "metadata": {},
   "outputs": [],
   "source": [
    "def adjust_gamma(img, gamma=1.0):\n",
    "    inv_gamma = 1.0/gamma\n",
    "    table = [(i/255.0)**inv_gamma*255 for i in range(256)]\n",
    "    table = np.array(table, dtype='uint8')\n",
    "    return cv2.LUT(img, table)"
   ]
  },
  {
   "cell_type": "code",
   "execution_count": 41,
   "metadata": {},
   "outputs": [],
   "source": [
    "image_gamma = adjust_gamma(image_array, 1)\n",
    "cv2.imshow('lena_gamma', image_gamma)\n",
    "cv2.imshow('lena_orig', image_array)\n",
    "key = cv2.waitKey()\n",
    "if key == 27:\n",
    "    cv2.destroyAllWindows()"
   ]
  },
  {
   "cell_type": "markdown",
   "metadata": {},
   "source": [
    "## 图像的直方图是对图像对比度效果上的一种处理，旨在使得图像整体效果均匀，黑与白之间的各个像素级之间的点更均匀一点。"
   ]
  },
  {
   "cell_type": "code",
   "execution_count": 44,
   "metadata": {},
   "outputs": [
    {
     "data": {
      "text/plain": [
       "(array([ 8394.,  2485.,  1639.,  3229.,  1621.,  2168.,  1319.,  6600.,\n",
       "         3446.,  1881.,   932.,  1035.,   942.,   831.,  1178.,  1109.,\n",
       "         1759.,  2242., 17806.,  9252.,  2063.,  1525.,  1209.,   283.,\n",
       "          983.,   640.,  1973.,  1919., 14883.,  5889.,  8256.,   574.,\n",
       "         6600.,  2739.,  8181.,  3250.,  4172.,  2238.,  5943.,  3514.,\n",
       "         5969.,  2715.,  6342.,  5692.,  4017.,  4999.,  6150.,  3680.,\n",
       "         6771.,  5121.,  5233.,  4273.,  6770.,  5221.,  5663.,  4937.,\n",
       "         6172.,  4657.,  5345.,  4682.,  5063.,  5493.,  4105.,  5086.,\n",
       "         4936.,  4352.,  4711.,  4780.,  4472.,  4462.,  4096.,  5233.,\n",
       "         4008.,  4435.,  4361.,  4165.,  4815.,  3867.,  5237.,  3764.,\n",
       "         5068.,  3779.,  4837.,  4061.,  4477.,  4769.,  4110.,  4743.,\n",
       "         3979.,  4695.,  3695.,  4510.,  3807.,  4124.,  4252.,  3901.,\n",
       "         4188.,  3893.,  3614.,  4553.,  3189.,  4617.,  3288.,  4387.,\n",
       "         3567.,  4110.,  3546.,  3988.,  3335.,  4262.,  3113.,  4385.,\n",
       "         2787.,  4667.,  2792.,  4580.,  2953.,  4402.,  3216.,  4124.,\n",
       "         3344.,  3811.,  3540.,  3906.,  3852.,  3600.,  3608.,  3675.,\n",
       "         3594.,  3742.,  3649.,  3982.,  3875.,  4086.,  3479.,  4052.,\n",
       "         3670.,  3915.,  4006.,  3774.,  4051.,  3631.,  4182.,  3637.,\n",
       "         4104.,  3543.,  4330.,  3305.,  4256.,  3258.,  4608.,  2973.,\n",
       "         5148.,  2976.,  5368.,  2806.,  5346.,  3072.,  5193.,  3277.,\n",
       "         4835.,  3526.,  4673.,  3711.,  4289.,  4348.,  4130.,  4442.,\n",
       "         3937.,  4536.,  3937.,  4398.,  3827.,  4162.,  3435.,  4224.,\n",
       "         3368.,  4069.,  3186.,  3796.,  3113.,  3788.,  3106.,  3747.,\n",
       "         3049.,  3341.,  3213.,  3309.,  3341.,  3367.,  3073.,  3353.,\n",
       "         2858.,  3590.,  2880.,  3562.,  3041.,  3422.,  3310.,  3030.,\n",
       "         3541.,  2936.,  3373.,  3278.,  3177.,  3162.,  2624.,  3408.,\n",
       "         2389.,  3399.,  2579.,  2960.,  2574.,  2573.,  2876.,  2348.,\n",
       "         3093.,  2543.,  2703.,  2366.,  2607.,  2873.,  2309.,  3073.,\n",
       "         2732.,  2691.,  2681.,  2660.,  2737.,  1776.,  2850.,  2197.,\n",
       "         2557.,  2166.,  2576.,  2533.,  2418.,  2791.,  2516.,  2868.,\n",
       "         2540.,  2884.,  2549.,  2980.,  2973.,  3120.,  3249.,  3716.,\n",
       "         3157.,  3314.,  2881.,  2590.,  1915.,  2217.,  1833., 71108.]),\n",
       " array([  0.,   1.,   2.,   3.,   4.,   5.,   6.,   7.,   8.,   9.,  10.,\n",
       "         11.,  12.,  13.,  14.,  15.,  16.,  17.,  18.,  19.,  20.,  21.,\n",
       "         22.,  23.,  24.,  25.,  26.,  27.,  28.,  29.,  30.,  31.,  32.,\n",
       "         33.,  34.,  35.,  36.,  37.,  38.,  39.,  40.,  41.,  42.,  43.,\n",
       "         44.,  45.,  46.,  47.,  48.,  49.,  50.,  51.,  52.,  53.,  54.,\n",
       "         55.,  56.,  57.,  58.,  59.,  60.,  61.,  62.,  63.,  64.,  65.,\n",
       "         66.,  67.,  68.,  69.,  70.,  71.,  72.,  73.,  74.,  75.,  76.,\n",
       "         77.,  78.,  79.,  80.,  81.,  82.,  83.,  84.,  85.,  86.,  87.,\n",
       "         88.,  89.,  90.,  91.,  92.,  93.,  94.,  95.,  96.,  97.,  98.,\n",
       "         99., 100., 101., 102., 103., 104., 105., 106., 107., 108., 109.,\n",
       "        110., 111., 112., 113., 114., 115., 116., 117., 118., 119., 120.,\n",
       "        121., 122., 123., 124., 125., 126., 127., 128., 129., 130., 131.,\n",
       "        132., 133., 134., 135., 136., 137., 138., 139., 140., 141., 142.,\n",
       "        143., 144., 145., 146., 147., 148., 149., 150., 151., 152., 153.,\n",
       "        154., 155., 156., 157., 158., 159., 160., 161., 162., 163., 164.,\n",
       "        165., 166., 167., 168., 169., 170., 171., 172., 173., 174., 175.,\n",
       "        176., 177., 178., 179., 180., 181., 182., 183., 184., 185., 186.,\n",
       "        187., 188., 189., 190., 191., 192., 193., 194., 195., 196., 197.,\n",
       "        198., 199., 200., 201., 202., 203., 204., 205., 206., 207., 208.,\n",
       "        209., 210., 211., 212., 213., 214., 215., 216., 217., 218., 219.,\n",
       "        220., 221., 222., 223., 224., 225., 226., 227., 228., 229., 230.,\n",
       "        231., 232., 233., 234., 235., 236., 237., 238., 239., 240., 241.,\n",
       "        242., 243., 244., 245., 246., 247., 248., 249., 250., 251., 252.,\n",
       "        253., 254., 255., 256.]),\n",
       " <a list of 256 Patch objects>)"
      ]
     },
     "execution_count": 44,
     "metadata": {},
     "output_type": "execute_result"
    },
    {
     "data": {
      "image/png": "[encoded data removed]",
      "text/plain": [
       "<Figure size 432x288 with 1 Axes>"
      ]
     },
     "metadata": {
      "needs_background": "light"
     },
     "output_type": "display_data"
    }
   ],
   "source": [
    "image_small = cv2.resize(image_gamma, (int(image_gamma.shape[0]*0.5), int(image_gamma.shape[1]*0.5)))\n",
    "image_yuv = cv2.cvtColor(image_gamma, cv2.COLOR_BGR2YUV)\n",
    "image_yuv[:, :, 0] = cv2.equalizeHist(image_yuv[:, :, 0])\n",
    "image_equ = cv2.cvtColor(image_yuv, cv2.COLOR_YUV2BGR)\n",
    "cv2.imshow('lena_gamma', image_gamma)\n",
    "cv2.imshow('lena_equalize_hist', image_equ)\n",
    "key = cv2.waitKey()\n",
    "if key == 27:\n",
    "    cv2.destroyAllWindows()\n",
    "    \n",
    "plt.hist(image_gamma.flatten(), 256, [0, 256], color = 'r')\n",
    "plt.hist(image_equ.flatten(), 256, [0, 256], color = 'b')"
   ]
  },
  {
   "cell_type": "markdown",
   "metadata": {},
   "source": [
    "## Rotation"
   ]
  },
  {
   "cell_type": "code",
   "execution_count": 12,
   "metadata": {},
   "outputs": [
    {
     "name": "stdout",
     "output_type": "stream",
     "text": [
      "[[ 0.5  0.   0. ]\n",
      " [-0.   0.5  0. ]]\n"
     ]
    }
   ],
   "source": [
    "# M = cv2.getRotationMatrix2D((image_array.shape[1]/2, image_array.shape[0]/2), 30, 0.5)\n",
    "M = cv2.getRotationMatrix2D((0, 0), 0, 0.5)\n",
    "image_rotate = cv2.warpAffine(image_array, M, (image_array.shape[1], image_array.shape[0]))\n",
    "cv2.imshow('lena_orig', image_array)\n",
    "cv2.imshow('lena_rotate', image_rotate)\n",
    "key = cv2.waitKey()\n",
    "if key == 27:\n",
    "    cv2.destroyAllWindows()\n",
    "print(M)"
   ]
  },
  {
   "cell_type": "code",
   "execution_count": 14,
   "metadata": {},
   "outputs": [
    {
     "data": {
      "text/plain": [
       "(1026000, (855, 400, 3), 1026000)"
      ]
     },
     "execution_count": 14,
     "metadata": {},
     "output_type": "execute_result"
    }
   ],
   "source": [
    "from functools import reduce\n",
    "image_array.size, image_array.shape, reduce(lambda x, y: x* y, image_array.shape)"
   ]
  },
  {
   "cell_type": "code",
   "execution_count": 15,
   "metadata": {},
   "outputs": [
    {
     "data": {
      "text/plain": [
       "array([[64, 60, 63, ...,  0,  0,  0],\n",
       "       [61, 59, 61, ...,  0,  0,  0],\n",
       "       [60, 61, 58, ...,  0,  0,  0],\n",
       "       ...,\n",
       "       [ 0,  0,  0, ...,  0,  0,  0],\n",
       "       [ 0,  0,  0, ...,  0,  0,  0],\n",
       "       [ 0,  0,  0, ...,  0,  0,  0]], dtype=uint8)"
      ]
     },
     "execution_count": 15,
     "metadata": {},
     "output_type": "execute_result"
    }
   ],
   "source": [
    "image_rotate[:,:, 0]"
   ]
  },
  {
   "cell_type": "code",
   "execution_count": 16,
   "metadata": {},
   "outputs": [
    {
     "data": {
      "text/plain": [
       "array([[ 64,  59,  60, ...,  52,  56,  69],\n",
       "       [ 64,  62,  59, ...,  50,  51,  60],\n",
       "       [ 61,  63,  59, ...,  50,  50,  60],\n",
       "       ...,\n",
       "       [113,  29,  45, ...,  49,  50,  46],\n",
       "       [118,  29,  45, ...,  44,  46,  49],\n",
       "       [122,  33,  48, ...,  67,  71,  80]], dtype=uint8)"
      ]
     },
     "execution_count": 16,
     "metadata": {},
     "output_type": "execute_result"
    }
   ],
   "source": [
    "image_array[:,:, 0]"
   ]
  },
  {
   "cell_type": "markdown",
   "metadata": {},
   "source": [
    "## scale + rotation + translation： 始终在同一平面"
   ]
  },
  {
   "cell_type": "code",
   "execution_count": 23,
   "metadata": {},
   "outputs": [
    {
     "name": "stdout",
     "output_type": "stream",
     "text": [
      "[[ 0.70175439  0.         40.        ]\n",
      " [ 0.21428571  0.80093677 85.5       ]]\n"
     ]
    }
   ],
   "source": [
    "rows, cols, chs = image_array.shape\n",
    "pts1 = np.float32([[0, 0], [cols-1, 0], [0, rows -1]])\n",
    "pts2 = np.float32([[cols * 0.1, rows * 0.1], [cols*0.8, rows*0.2], [cols*0.1, rows*0.9]])\n",
    "\n",
    "M = cv2.getAffineTransform(pts1, pts2)\n",
    "print(M)\n",
    "\n",
    "image_3pr = cv2.warpAffine(image_array,M,(cols, rows))\n",
    "cv2.imshow('lena_orig', image_array)\n",
    "cv2.imshow('lena_3pr', image_3pr)\n",
    "key = cv2.waitKey()\n",
    "if key == 27:\n",
    "    cv2.destroyAllWindows()"
   ]
  },
  {
   "cell_type": "markdown",
   "metadata": {},
   "source": [
    "## Perspective tranform: 不在同一平行的平面"
   ]
  },
  {
   "cell_type": "code",
   "execution_count": 30,
   "metadata": {},
   "outputs": [],
   "source": [
    "def random_warp(img):\n",
    "    height, width, channel = img.shape\n",
    "    random_margin = 60\n",
    "    \n",
    "    x1 = random.randint(-random_margin, random_margin)\n",
    "    y1 = random.randint(-random_margin, random_margin)\n",
    "    x2 = random.randint(width - random_margin - 1, width - 1)\n",
    "    y2 = random.randint(-random_margin, random_margin)\n",
    "    x3 = random.randint(width - random_margin - 1, width - 1)\n",
    "    y3 = random.randint(height - random_margin - 1, height - 1)\n",
    "    x4 = random.randint(-random_margin, random_margin)\n",
    "    y4 = random.randint(height - random_margin - 1, height - 1)\n",
    "\n",
    "    dx1 = random.randint(-random_margin, random_margin)\n",
    "    dy1 = random.randint(-random_margin, random_margin)\n",
    "    dx2 = random.randint(width - random_margin - 1, width - 1)\n",
    "    dy2 = random.randint(-random_margin, random_margin)\n",
    "    dx3 = random.randint(width - random_margin - 1, width - 1)\n",
    "    dy3 = random.randint(height - random_margin - 1, height - 1)\n",
    "    dx4 = random.randint(-random_margin, random_margin)\n",
    "    dy4 = random.randint(height - random_margin - 1, height - 1)\n",
    "    \n",
    "    pts1 = np.float32([[x1, y1], [x2, y2], [x3, y3], [x4, y4]])\n",
    "    pts2 = np.float32([[dx1, dy1], [dx2, dy2], [dx3, dy3], [dx4, dy4]])\n",
    "    \n",
    "    M = cv2.getPerspectiveTransform(pts1, pts2)\n",
    "    \n",
    "    image_warp = cv2.warpPerspective(img, M, (width, height))\n",
    "\n",
    "    return M, image_warp"
   ]
  },
  {
   "cell_type": "code",
   "execution_count": 34,
   "metadata": {},
   "outputs": [
    {
     "name": "stdout",
     "output_type": "stream",
     "text": [
      "[[ 1.16997576e+00  6.73577467e-02 -5.12636712e+01]\n",
      " [ 1.03344407e-01  1.01263413e+00  2.42790063e+01]\n",
      " [ 2.40672471e-04  5.58622685e-05  1.00000000e+00]]\n"
     ]
    }
   ],
   "source": [
    "warp_M, image_warp = random_warp(image_array)\n",
    "print(warp_M)\n",
    "cv2.imshow('lena_orig', image_array)\n",
    "cv2.imshow('lena_warp', image_warp)\n",
    "key = cv2.waitKey()\n",
    "if key == 27:\n",
    "    cv2.destroyAllWindows()"
   ]
  }
 ],
 "metadata": {
  "kernelspec": {
   "display_name": "Python 3",
   "language": "python",
   "name": "python3"
  },
  "language_info": {
   "codemirror_mode": {
    "name": "ipython",
    "version": 3
   },
   "file_extension": ".py",
   "mimetype": "text/x-python",
   "name": "python",
   "nbconvert_exporter": "python",
   "pygments_lexer": "ipython3",
   "version": "3.7.1"
  }
 },
 "nbformat": 4,
 "nbformat_minor": 2
}
